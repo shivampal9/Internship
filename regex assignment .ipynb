{
 "cells": [
  {
   "cell_type": "markdown",
   "id": "b1c04723",
   "metadata": {},
   "source": [
    "# REGEX ASSIGNMENT"
   ]
  },
  {
   "cell_type": "code",
   "execution_count": 89,
   "id": "5581d569",
   "metadata": {},
   "outputs": [],
   "source": [
    "import re"
   ]
  },
  {
   "cell_type": "code",
   "execution_count": null,
   "id": "f3828e22",
   "metadata": {},
   "outputs": [],
   "source": [
    "#Question 1- Write a Python program to check that a string contains only a certain set of characters\n",
    "#(in this case a-z, A-Z and 0-9)."
   ]
  },
  {
   "cell_type": "code",
   "execution_count": 87,
   "id": "f5a42efd",
   "metadata": {},
   "outputs": [
    {
     "name": "stdout",
     "output_type": "stream",
     "text": [
      "['I', 'watched', 'bahubali', '3', 'times']\n"
     ]
    }
   ],
   "source": [
    "string = \"I watched bahubali 3 times \"\n",
    "    \n",
    "pattern = re.findall(\"[A-Za-z0-9]+\",string)\n",
    "print(pattern)\n"
   ]
  },
  {
   "cell_type": "code",
   "execution_count": null,
   "id": "3bb5ca61",
   "metadata": {},
   "outputs": [],
   "source": [
    "#Question 2- Create a function in python that matches a string that has an a followed by zero or more b's"
   ]
  },
  {
   "cell_type": "code",
   "execution_count": 134,
   "id": "1d3aff6c",
   "metadata": {},
   "outputs": [
    {
     "name": "stdout",
     "output_type": "stream",
     "text": [
      "<re.Match object; span=(0, 5), match='abbbb'>\n",
      "<re.Match object; span=(0, 1), match='a'>\n"
     ]
    }
   ],
   "source": [
    "text ='abbbb'\n",
    "pattern='^a(b*)$'\n",
    "x=re.search(pattern,text)\n",
    "print(x)\n",
    "text1='a'\n",
    "y=re.search(pattern,text1)\n",
    "print(y)"
   ]
  },
  {
   "cell_type": "code",
   "execution_count": null,
   "id": "0532d178",
   "metadata": {},
   "outputs": [],
   "source": [
    "#Question 3-  Create a function in python that matches a string that has an a followed by one or more b's"
   ]
  },
  {
   "cell_type": "code",
   "execution_count": 137,
   "id": "b9ddc326",
   "metadata": {},
   "outputs": [
    {
     "name": "stdout",
     "output_type": "stream",
     "text": [
      "<re.Match object; span=(0, 3), match='abb'>\n",
      "None\n"
     ]
    }
   ],
   "source": [
    "text='abb'\n",
    "pattern='^ab+$'\n",
    "x=re.search(pattern,text)\n",
    "text1='a'\n",
    "y=re.search(pattern,text1)\n",
    "\n",
    "print(x)\n",
    "print(y)"
   ]
  },
  {
   "cell_type": "code",
   "execution_count": null,
   "id": "97d01f7a",
   "metadata": {},
   "outputs": [],
   "source": [
    "#Question 4- Create a function in Python and use RegEx that matches a string that has an a followed by zero or one 'b'."
   ]
  },
  {
   "cell_type": "code",
   "execution_count": 141,
   "id": "9959c0f5",
   "metadata": {},
   "outputs": [
    {
     "name": "stdout",
     "output_type": "stream",
     "text": [
      "None\n",
      "None\n",
      "<re.Match object; span=(0, 1), match='a'>\n",
      "<re.Match object; span=(0, 2), match='ab'>\n"
     ]
    }
   ],
   "source": [
    "text=['abbbb','abc','a','ab']\n",
    "pattern='^ab?$'\n",
    "for msg in text:\n",
    "    search= re.search(pattern,msg)\n",
    "    print(search)"
   ]
  },
  {
   "cell_type": "code",
   "execution_count": null,
   "id": "74c1c60c",
   "metadata": {},
   "outputs": [],
   "source": [
    "#Question 5- Write a Python program that matches a string that has an a followed by three 'b'."
   ]
  },
  {
   "cell_type": "code",
   "execution_count": 142,
   "id": "a74ddc80",
   "metadata": {},
   "outputs": [
    {
     "name": "stdout",
     "output_type": "stream",
     "text": [
      "<re.Match object; span=(0, 4), match='abbb'>\n",
      "None\n",
      "None\n",
      "None\n"
     ]
    }
   ],
   "source": [
    "text=['abbb','abb','abbbbb','aabbb']\n",
    "pattern='^abbb$'\n",
    "for msg in text:\n",
    "    search = re.search(pattern,msg)\n",
    "    print(search)"
   ]
  },
  {
   "cell_type": "code",
   "execution_count": null,
   "id": "7f8faf64",
   "metadata": {},
   "outputs": [],
   "source": [
    "#Question 6- Write a regular expression in Python to split a string into uppercase letters."
   ]
  },
  {
   "cell_type": "code",
   "execution_count": 143,
   "id": "b85aacd1",
   "metadata": {},
   "outputs": [
    {
     "name": "stdout",
     "output_type": "stream",
     "text": [
      "['Importance', 'Of', 'Regular', 'Expressions', 'In', 'Python']\n"
     ]
    }
   ],
   "source": [
    "text= 'ImportanceOfRegularExpressionsInPython'\n",
    "res = re.findall('[A-Z][^A-Z]*', text)\n",
    "print(res)\n",
    "    "
   ]
  },
  {
   "cell_type": "code",
   "execution_count": null,
   "id": "746fa562",
   "metadata": {},
   "outputs": [],
   "source": [
    "#Question 7- Write a Python program that matches a string that has an a followed by two to three 'b'."
   ]
  },
  {
   "cell_type": "code",
   "execution_count": 144,
   "id": "900c2178",
   "metadata": {},
   "outputs": [
    {
     "name": "stdout",
     "output_type": "stream",
     "text": [
      "<re.Match object; span=(0, 3), match='abb'>\n",
      "<re.Match object; span=(0, 4), match='abbb'>\n",
      "None\n"
     ]
    }
   ],
   "source": [
    "text=['abb','abbb','ab']\n",
    "pattern='^ab{2,3}$'\n",
    "for msg in text:\n",
    "    search= re.search(pattern,msg)\n",
    "    print(search)"
   ]
  },
  {
   "cell_type": "code",
   "execution_count": null,
   "id": "e65354b8",
   "metadata": {},
   "outputs": [],
   "source": [
    "#Question 8- Write a Python program to find sequences of lowercase letters joined with a underscore."
   ]
  },
  {
   "cell_type": "code",
   "execution_count": 156,
   "id": "bf041cbf",
   "metadata": {},
   "outputs": [
    {
     "name": "stdout",
     "output_type": "stream",
     "text": [
      "['am_learning', 'data_science', 'data_trained']\n"
     ]
    }
   ],
   "source": [
    "text=\"I am_learning data_science from data_trained \"\n",
    "pattern=r\"[a-z]+_[a-z]+\"\n",
    "x=re.findall(pattern,text)\n",
    "print(x)"
   ]
  },
  {
   "cell_type": "code",
   "execution_count": null,
   "id": "74c0e8d2",
   "metadata": {},
   "outputs": [],
   "source": [
    "#Question 9- Write a Python program that matches a string that has an 'a' followed by anything, ending in 'b'."
   ]
  },
  {
   "cell_type": "code",
   "execution_count": 153,
   "id": "995075a4",
   "metadata": {},
   "outputs": [
    {
     "name": "stdout",
     "output_type": "stream",
     "text": [
      "<re.Match object; span=(0, 5), match='aarab'>\n",
      "<re.Match object; span=(0, 5), match='aoirb'>\n",
      "None\n"
     ]
    }
   ],
   "source": [
    "text= ['aarab','aoirb','acdefb']\n",
    "pattern='^a...b$'\n",
    "for msg in text:\n",
    "    search=re.search(pattern,msg)\n",
    "    print(search)"
   ]
  },
  {
   "cell_type": "code",
   "execution_count": null,
   "id": "076a2ea6",
   "metadata": {},
   "outputs": [],
   "source": [
    "#Question 10- Write a Python program that matches a word at the beginning of a string."
   ]
  },
  {
   "cell_type": "code",
   "execution_count": 164,
   "id": "d0db612c",
   "metadata": {},
   "outputs": [
    {
     "name": "stdout",
     "output_type": "stream",
     "text": [
      "<re.Match object; span=(0, 2), match='An'>\n"
     ]
    }
   ],
   "source": [
    "text='An apple a day keeps the doctor away'\n",
    "pattern= '\\w+'\n",
    "res=re.match(pattern,text)\n",
    "print(res)"
   ]
  },
  {
   "cell_type": "code",
   "execution_count": null,
   "id": "3e5a075f",
   "metadata": {},
   "outputs": [],
   "source": [
    "#Question 11- Write a Python program to match a string that contains only upper and lowercase letters, numbers, and underscores."
   ]
  },
  {
   "cell_type": "code",
   "execution_count": 99,
   "id": "49686b7c",
   "metadata": {},
   "outputs": [
    {
     "name": "stdout",
     "output_type": "stream",
     "text": [
      "<regex.Match object; span=(0, 13), match='Shivampal_123'>\n"
     ]
    }
   ],
   "source": [
    "text=\"Shivampal_123\"\n",
    "pattern=r\"[a-zA-Z0-9_]+$\"\n",
    "x=re.search(pattern,text)\n",
    "print(x)"
   ]
  },
  {
   "cell_type": "code",
   "execution_count": null,
   "id": "3155a279",
   "metadata": {},
   "outputs": [],
   "source": [
    "#Question 12- Write a Python program where a string will start with a specific number. "
   ]
  },
  {
   "cell_type": "code",
   "execution_count": 140,
   "id": "2c00537b",
   "metadata": {},
   "outputs": [
    {
     "name": "stdout",
     "output_type": "stream",
     "text": [
      "['100a']\n"
     ]
    }
   ],
   "source": [
    "text_1=\"100abc plus test matches played by Virat\"\n",
    "pattern=r\"\\d+[abc]\"\n",
    "x=re.findall(pattern,text_1)\n",
    "print(x)"
   ]
  },
  {
   "cell_type": "code",
   "execution_count": null,
   "id": "03d155e8",
   "metadata": {},
   "outputs": [],
   "source": [
    "#Question 13- Write a Python program to remove leading zeros from an IP address"
   ]
  },
  {
   "cell_type": "code",
   "execution_count": 181,
   "id": "83055df5",
   "metadata": {},
   "outputs": [
    {
     "name": "stdout",
     "output_type": "stream",
     "text": [
      "213.8.1.923\n"
     ]
    }
   ],
   "source": [
    "ip_address=\"213.08.01.923\"\n",
    "remove=re.sub('\\.[0]*','.',ip_address)\n",
    "print(remove)"
   ]
  },
  {
   "cell_type": "code",
   "execution_count": null,
   "id": "ebb0178a",
   "metadata": {},
   "outputs": [],
   "source": [
    "#Question 14- Write a regular expression in python to match a date string in the form of Month name followed by day number and year stored in a text file.\n",
    "#Sample text : ' On August 15th 1947 that India was declared independent from British colonialism, and the reins of control were handed over to the leaders of the Country’.\n"
   ]
  },
  {
   "cell_type": "code",
   "execution_count": 35,
   "id": "6c95812e",
   "metadata": {},
   "outputs": [
    {
     "name": "stdout",
     "output_type": "stream",
     "text": [
      "['August 15th 1947']\n"
     ]
    }
   ],
   "source": [
    "with open(\"sample1.txt\") as file:\n",
    "    for line in file:\n",
    "        result=re.findall(r\"\\b([A-Za-z]+ \\d+(?:th)? \\d{4})\",line)\n",
    "        print(result)"
   ]
  },
  {
   "cell_type": "code",
   "execution_count": 84,
   "id": "c69b8e80",
   "metadata": {},
   "outputs": [],
   "source": [
    "#Question 15- Write a Python program to search some literals strings in a string. Go to the editor\n",
    "#Sample text : 'The quick brown fox jumps over the lazy dog.'\n",
    "#Searched words : 'fox', 'dog', 'horse'\n"
   ]
  },
  {
   "cell_type": "code",
   "execution_count": 112,
   "id": "88dc3693",
   "metadata": {},
   "outputs": [
    {
     "name": "stdout",
     "output_type": "stream",
     "text": [
      "<re.Match object; span=(16, 19), match='fox'>\n"
     ]
    }
   ],
   "source": [
    "import re\n",
    "pattern=\"fox\"\n",
    "text=\"The quick brown fox jumps over the lazy dog\"\n",
    "matches=re.search(pattern,text)\n",
    "print(matches)"
   ]
  },
  {
   "cell_type": "code",
   "execution_count": 103,
   "id": "ec50b2e2",
   "metadata": {},
   "outputs": [
    {
     "name": "stdout",
     "output_type": "stream",
     "text": [
      "<re.Match object; span=(40, 43), match='dog'>\n"
     ]
    }
   ],
   "source": [
    "pattern=\"dog\"\n",
    "text=\"The quick brown fox jumps over the lazy dog\"\n",
    "matches=re.search(pattern,text)\n",
    "print(matches)"
   ]
  },
  {
   "cell_type": "code",
   "execution_count": 125,
   "id": "e51ae1a7",
   "metadata": {},
   "outputs": [
    {
     "name": "stdout",
     "output_type": "stream",
     "text": [
      "None\n"
     ]
    }
   ],
   "source": [
    "pattern=\"horse\"\n",
    "text=\"The quick brown fox jumps over the lazy dog\"\n",
    "matches=re.match(pattern,text)\n",
    "print(matches)"
   ]
  },
  {
   "cell_type": "code",
   "execution_count": null,
   "id": "a79314a9",
   "metadata": {},
   "outputs": [],
   "source": [
    "#Question 16- Write a Python program to search a literals string in a string and also find the location within the original string where the pattern occurs\n",
    "#Sample text : 'The quick brown fox jumps over the lazy dog.'\n",
    "\n"
   ]
  },
  {
   "cell_type": "code",
   "execution_count": 138,
   "id": "960557b7",
   "metadata": {},
   "outputs": [
    {
     "name": "stdout",
     "output_type": "stream",
     "text": [
      "['fox']\n"
     ]
    }
   ],
   "source": [
    "import re\n",
    "text=\"The quick brown fox jumps over the lazy dog\"\n",
    "matches=re.findall(r\"\\bfo\\w+\",text)\n",
    "print(matches)\n"
   ]
  },
  {
   "cell_type": "code",
   "execution_count": 137,
   "id": "c7a7f026",
   "metadata": {},
   "outputs": [
    {
     "name": "stdout",
     "output_type": "stream",
     "text": [
      "(16, 19)\n"
     ]
    }
   ],
   "source": [
    "text=\"The quick brown fox jumps over the lazy dog\"\n",
    "x=re.search(r\"\\bfo\\w+\",text)\n",
    "print(x.span())"
   ]
  },
  {
   "cell_type": "code",
   "execution_count": null,
   "id": "a9c0bc67",
   "metadata": {},
   "outputs": [],
   "source": [
    "#Question 17- Write a Python program to find the substrings within a string.\n",
    "#Sample text : 'Python exercises, PHP exercises, C# exercises'\n",
    "#Pattern : 'exercises'.\n"
   ]
  },
  {
   "cell_type": "code",
   "execution_count": 96,
   "id": "f68f14a4",
   "metadata": {},
   "outputs": [
    {
     "name": "stdout",
     "output_type": "stream",
     "text": [
      "['exercises', 'exercises', 'exercises']\n"
     ]
    }
   ],
   "source": [
    "sample_text=\"Python exercises, PHP exercises, C# exercises\"\n",
    "pattern=\"exercises\"\n",
    "matches=re.findall(pattern,sample_text)\n",
    "print(matches)"
   ]
  },
  {
   "cell_type": "code",
   "execution_count": null,
   "id": "e3e36bb8",
   "metadata": {},
   "outputs": [],
   "source": [
    "#Question 18- Write a Python program to find the occurrence and position of the substrings within a string."
   ]
  },
  {
   "cell_type": "code",
   "execution_count": 124,
   "id": "a84df67d",
   "metadata": {},
   "outputs": [
    {
     "name": "stdout",
     "output_type": "stream",
     "text": [
      "['well', 'well']\n"
     ]
    }
   ],
   "source": [
    "import regex as re\n",
    "string=\"In today's match  players played well n well\"\n",
    "pattern=\"well\"\n",
    "x=re.findall(pattern,string)\n",
    "print(x)"
   ]
  },
  {
   "cell_type": "code",
   "execution_count": null,
   "id": "6587272a",
   "metadata": {},
   "outputs": [],
   "source": []
  },
  {
   "cell_type": "code",
   "execution_count": null,
   "id": "185e3447",
   "metadata": {},
   "outputs": [],
   "source": [
    "#Question 19- Write a Python program to convert a date of yyyy-mm-dd format to dd-mm-yyyy format."
   ]
  },
  {
   "cell_type": "code",
   "execution_count": 5,
   "id": "4d6de079",
   "metadata": {},
   "outputs": [
    {
     "name": "stdout",
     "output_type": "stream",
     "text": [
      "15-07-2023\n"
     ]
    }
   ],
   "source": [
    "import re\n",
    "date= '2023-07-15'\n",
    "change=re.sub(r'(\\d{4})-(\\d{1,2})-(\\d{1,2})','\\\\3-\\\\2-\\\\1',date)\n",
    "print(change)\n"
   ]
  },
  {
   "cell_type": "code",
   "execution_count": null,
   "id": "684b8ab3",
   "metadata": {},
   "outputs": [],
   "source": [
    "#Question 20- Write a Python program to find all words starting with 'a' or 'e' in a given string.\n",
    "\n"
   ]
  },
  {
   "cell_type": "code",
   "execution_count": 98,
   "id": "17b25034",
   "metadata": {},
   "outputs": [
    {
     "name": "stdout",
     "output_type": "stream",
     "text": [
      "['apple', 'and', 'an', 'egg', 'eaten', 'evening']\n"
     ]
    }
   ],
   "source": [
    "text=\"An apple and an egg was eaten by me in evening\"\n",
    "pattern=r\"\\b[ae]\\w+\\b\"\n",
    "x=re.findall(pattern,text)\n",
    "print(x)"
   ]
  },
  {
   "cell_type": "code",
   "execution_count": null,
   "id": "45cfa2a0",
   "metadata": {},
   "outputs": [],
   "source": [
    "#Question 21- Write a Python program to separate and print the numbers and their position of a given string."
   ]
  },
  {
   "cell_type": "code",
   "execution_count": 24,
   "id": "4ee9006b",
   "metadata": {},
   "outputs": [
    {
     "name": "stdout",
     "output_type": "stream",
     "text": [
      "99\n",
      "position: (20, 22)\n",
      "100\n",
      "position: (35, 38)\n"
     ]
    }
   ],
   "source": [
    "text= \" virat kohli scored 99 runs in his 100 th match\"\n",
    "for match in re.finditer(\"\\d+\",text):\n",
    "    print(match.group(0))\n",
    "    print(\"position:\",match.span())\n",
    "    "
   ]
  },
  {
   "cell_type": "code",
   "execution_count": null,
   "id": "8a527e52",
   "metadata": {},
   "outputs": [],
   "source": [
    "#Question 22- Write a regular expression in python program to extract maximum numeric value from a string"
   ]
  },
  {
   "cell_type": "code",
   "execution_count": 29,
   "id": "f60e7a57",
   "metadata": {},
   "outputs": [
    {
     "name": "stdout",
     "output_type": "stream",
     "text": [
      "Maxvalue: 654\n"
     ]
    }
   ],
   "source": [
    "string='asdh123_hsb120kaj654'\n",
    "number = re.findall('\\d+', string)\n",
    "print(\"Maxvalue:\",max(number))"
   ]
  },
  {
   "cell_type": "code",
   "execution_count": null,
   "id": "b483047c",
   "metadata": {},
   "outputs": [],
   "source": [
    "#Question 23- Write a Regex in Python to put spaces between words starting with capital letters"
   ]
  },
  {
   "cell_type": "code",
   "execution_count": 58,
   "id": "55b0d6cf",
   "metadata": {},
   "outputs": [
    {
     "name": "stdout",
     "output_type": "stream",
     "text": [
      " My Name Is Shivam And I Am Learning Data Science\n"
     ]
    }
   ],
   "source": [
    "text = \"MyNameIsShivamAnd IAmLearningDataScience\"\n",
    "x = re.sub(r\"([A-Z][a-z]+)\", r\" \\1\",text)\n",
    "print(x)"
   ]
  },
  {
   "cell_type": "code",
   "execution_count": null,
   "id": "b3775d42",
   "metadata": {},
   "outputs": [],
   "source": [
    "#Question 24- Python regex to find sequences of one upper case letter followed by lower case letters"
   ]
  },
  {
   "cell_type": "code",
   "execution_count": 63,
   "id": "55371d26",
   "metadata": {},
   "outputs": [
    {
     "name": "stdout",
     "output_type": "stream",
     "text": [
      "['Iam', 'Going', 'To', 'Become', 'Data', 'Scientist']\n"
     ]
    }
   ],
   "source": [
    "text=\"Iam Going To Become A Data Scientist\"\n",
    "pattern=r\"[A-Z][a-z]+\"\n",
    "uppercase_lowercase=re.findall(pattern,text)\n",
    "print(uppercase_lowercase)"
   ]
  },
  {
   "cell_type": "code",
   "execution_count": null,
   "id": "31c7a56c",
   "metadata": {},
   "outputs": [],
   "source": [
    "#Question 25- Write a Python program to remove duplicate words from Sentence using Regular Expression"
   ]
  },
  {
   "cell_type": "code",
   "execution_count": 64,
   "id": "335ca7f9",
   "metadata": {},
   "outputs": [
    {
     "name": "stdout",
     "output_type": "stream",
     "text": [
      "In today's match players played well\n"
     ]
    }
   ],
   "source": [
    "data=\"In today's match match players played well well\"\n",
    "pattern=r\"\\b(\\w+)(?:\\W+\\1\\b)+\"\n",
    "x=re.sub(pattern,r\"\\1\",data)\n",
    "print(x)"
   ]
  },
  {
   "cell_type": "code",
   "execution_count": null,
   "id": "24cb18b3",
   "metadata": {},
   "outputs": [],
   "source": [
    "#Question 26-  Write a python program using RegEx to accept string ending with alphanumeric character."
   ]
  },
  {
   "cell_type": "code",
   "execution_count": 79,
   "id": "5a4c5b99",
   "metadata": {},
   "outputs": [
    {
     "name": "stdout",
     "output_type": "stream",
     "text": [
      "<re.Match object; span=(0, 7), match='rAxi101'>\n"
     ]
    }
   ],
   "source": [
    "string=\"rAxi101\"\n",
    "pattern=r\"^.*[a-zA-Z0-9]$\"\n",
    "x=re.match(pattern,string)\n",
    "print(x)"
   ]
  },
  {
   "cell_type": "code",
   "execution_count": null,
   "id": "c16394b7",
   "metadata": {},
   "outputs": [],
   "source": [
    "#Question 27-Write a python program using RegEx to extract the hashtags."
   ]
  },
  {
   "cell_type": "code",
   "execution_count": 51,
   "id": "67f81e54",
   "metadata": {},
   "outputs": [
    {
     "name": "stdout",
     "output_type": "stream",
     "text": [
      "['#Doltiwal', '#xyzabc', '#Demonetization']\n"
     ]
    }
   ],
   "source": [
    "with open(\"sample2.txt\") as file:\n",
    "    for line in file:\n",
    "        hashtag= re.findall('\\#\\w+',line)\n",
    "        print(hashtag)"
   ]
  },
  {
   "cell_type": "code",
   "execution_count": null,
   "id": "3fbb826a",
   "metadata": {},
   "outputs": [],
   "source": [
    "#Question 28- Write a python program using RegEx to remove <U+..> like symbols\n",
    "#Check the below sample text, there are strange symbols something of the sort <U+..> all over the place. You need to come up with a general Regex expression that will cover all such symbols.\n",
    "#Sample Text: \"@Jags123456 Bharat band on 28??<ed><U+00A0><U+00BD><ed><U+00B8><U+0082>Those who  are protesting #demonetization  are all different party leaders\"\n"
   ]
  },
  {
   "cell_type": "code",
   "execution_count": 83,
   "id": "5cd7b66b",
   "metadata": {},
   "outputs": [
    {
     "name": "stdout",
     "output_type": "stream",
     "text": [
      "@Jags123456 Bharat band on 28??<ed><ed>Those who are protesting #demonetization are all different party leaders\n"
     ]
    }
   ],
   "source": [
    "text=\"@Jags123456 Bharat band on 28??<ed><U+00A0><U+00BD><ed><U+00B8><U+0082>Those who are protesting #demonetization are all different party leaders\"\n",
    "x=re.sub(r'<U\\+[A-Za-z0-9]+>','',text)\n",
    "print(x)"
   ]
  },
  {
   "cell_type": "code",
   "execution_count": null,
   "id": "aa0b00a0",
   "metadata": {},
   "outputs": [],
   "source": [
    "#Question 29- Write a python program to extract dates from the text stored in the text file.\n",
    "#Sample Text: Ron was born on 12-09-1992 and he was admitted to school 15-12-1999.\n",
    "#Store this sample text in the file and then extract dates.\n"
   ]
  },
  {
   "cell_type": "code",
   "execution_count": 119,
   "id": "246edb34",
   "metadata": {},
   "outputs": [
    {
     "name": "stdout",
     "output_type": "stream",
     "text": [
      "['12-09-1992', '15-12-1999']\n"
     ]
    }
   ],
   "source": [
    "with open(\"sample.txt\") as file:\n",
    "    for line in file:\n",
    "        date=re.findall(r'\\d{2}-\\d{2}-\\d{4}',line)\n",
    "        print(date)"
   ]
  },
  {
   "cell_type": "code",
   "execution_count": null,
   "id": "bfd38817",
   "metadata": {
    "scrolled": true
   },
   "outputs": [],
   "source": [
    "#Question 30- Write a Python program to replace all occurrences of a space, comma, or dot with a colon.\n",
    "#Sample Text- 'Python Exercises, PHP exercises.'\n"
   ]
  },
  {
   "cell_type": "code",
   "execution_count": 88,
   "id": "c1018575",
   "metadata": {},
   "outputs": [
    {
     "name": "stdout",
     "output_type": "stream",
     "text": [
      "Python:Exercises::PHP:exercises:\n"
     ]
    }
   ],
   "source": [
    "text='Python Exercises, PHP exercises.'\n",
    "result=re.sub(\"[ ,.]\",\":\",text)\n",
    "print(result)"
   ]
  },
  {
   "cell_type": "code",
   "execution_count": null,
   "id": "bf28d918",
   "metadata": {},
   "outputs": [],
   "source": []
  },
  {
   "cell_type": "code",
   "execution_count": null,
   "id": "df2aa9a5",
   "metadata": {},
   "outputs": [],
   "source": []
  },
  {
   "cell_type": "code",
   "execution_count": null,
   "id": "6975a679",
   "metadata": {},
   "outputs": [],
   "source": []
  },
  {
   "cell_type": "code",
   "execution_count": null,
   "id": "aa0479ed",
   "metadata": {},
   "outputs": [],
   "source": []
  },
  {
   "cell_type": "code",
   "execution_count": null,
   "id": "173f629a",
   "metadata": {},
   "outputs": [],
   "source": []
  },
  {
   "cell_type": "code",
   "execution_count": null,
   "id": "f4e1cfe4",
   "metadata": {},
   "outputs": [],
   "source": []
  },
  {
   "cell_type": "code",
   "execution_count": null,
   "id": "08a22d92",
   "metadata": {},
   "outputs": [],
   "source": []
  },
  {
   "cell_type": "code",
   "execution_count": null,
   "id": "306aac65",
   "metadata": {},
   "outputs": [],
   "source": []
  }
 ],
 "metadata": {
  "kernelspec": {
   "display_name": "Python 3 (ipykernel)",
   "language": "python",
   "name": "python3"
  },
  "language_info": {
   "codemirror_mode": {
    "name": "ipython",
    "version": 3
   },
   "file_extension": ".py",
   "mimetype": "text/x-python",
   "name": "python",
   "nbconvert_exporter": "python",
   "pygments_lexer": "ipython3",
   "version": "3.9.13"
  }
 },
 "nbformat": 4,
 "nbformat_minor": 5
}
